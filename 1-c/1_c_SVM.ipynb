{
  "nbformat": 4,
  "nbformat_minor": 0,
  "metadata": {
    "colab": {
      "provenance": []
    },
    "kernelspec": {
      "name": "python3",
      "display_name": "Python 3"
    }
  },
  "cells": [
    {
      "cell_type": "markdown",
      "metadata": {
        "id": "zTKZy7Gj6veU"
      },
      "source": [
        "<center><h1>1-c: SVM</h1></center>\n",
        "\n",
        "<center><h2><a href=\"https://rdfia.github.io/\">Course link</a></h2></center>\n",
        "\n",
        "# Warning :\n",
        "# Do \"File -> Save a copy in Drive\" before you start modifying the notebook, otherwise your modifications will not be saved.\n"
      ]
    },
    {
      "cell_type": "code",
      "metadata": {
        "id": "QK8of_MGVV2M",
        "colab": {
          "base_uri": "https://localhost:8080/"
        },
        "outputId": "508f7e48-71de-4f2e-b93a-6a2f44bbb4c4"
      },
      "source": [
        "!wget https://github.com/rdfia/rdfia.github.io/raw/master/data/15_scenes_Xy.npz"
      ],
      "execution_count": null,
      "outputs": [
        {
          "output_type": "stream",
          "name": "stdout",
          "text": [
            "--2022-10-14 14:18:11--  https://github.com/rdfia/rdfia.github.io/raw/master/data/15_scenes_Xy.npz\n",
            "Resolving github.com (github.com)... 140.82.113.4\n",
            "Connecting to github.com (github.com)|140.82.113.4|:443... connected.\n",
            "HTTP request sent, awaiting response... 302 Found\n",
            "Location: https://raw.githubusercontent.com/rdfia/rdfia.github.io/master/data/15_scenes_Xy.npz [following]\n",
            "--2022-10-14 14:18:11--  https://raw.githubusercontent.com/rdfia/rdfia.github.io/master/data/15_scenes_Xy.npz\n",
            "Resolving raw.githubusercontent.com (raw.githubusercontent.com)... 185.199.108.133, 185.199.109.133, 185.199.110.133, ...\n",
            "Connecting to raw.githubusercontent.com (raw.githubusercontent.com)|185.199.108.133|:443... connected.\n",
            "HTTP request sent, awaiting response... 200 OK\n",
            "Length: 35952210 (34M) [application/octet-stream]\n",
            "Saving to: ‘15_scenes_Xy.npz.5’\n",
            "\n",
            "15_scenes_Xy.npz.5  100%[===================>]  34.29M   184MB/s    in 0.2s    \n",
            "\n",
            "2022-10-14 14:18:11 (184 MB/s) - ‘15_scenes_Xy.npz.5’ saved [35952210/35952210]\n",
            "\n"
          ]
        }
      ]
    },
    {
      "cell_type": "code",
      "metadata": {
        "id": "PH3AHmt_WAOs",
        "colab": {
          "base_uri": "https://localhost:8080/"
        },
        "outputId": "30888a48-31c3-431c-95a5-f2459bacd909"
      },
      "source": [
        "%pylab inline\n",
        "\n",
        "import matplotlib.pyplot as plt\n",
        "import numpy as np\n",
        "from sklearn.svm import SVC\n",
        "from sklearn.model_selection import KFold, train_test_split"
      ],
      "execution_count": null,
      "outputs": [
        {
          "output_type": "stream",
          "name": "stdout",
          "text": [
            "Populating the interactive namespace from numpy and matplotlib\n"
          ]
        }
      ]
    },
    {
      "cell_type": "markdown",
      "metadata": {
        "id": "A6TfY3K0W8MM"
      },
      "source": [
        "Loading BoW of the whole dataset (4485 images, thus 4485 dictionnary of 1001 words):"
      ]
    },
    {
      "cell_type": "code",
      "metadata": {
        "id": "FWLV0po7WO1E",
        "colab": {
          "base_uri": "https://localhost:8080/"
        },
        "outputId": "a4150235-4521-42f9-84ce-b5f7d238d958"
      },
      "source": [
        "data = np.load(\"15_scenes_Xy.npz\")\n",
        "X = data[\"X\"]\n",
        "y = data[\"y\"]\n",
        "\n",
        "X.shape, y.shape"
      ],
      "execution_count": null,
      "outputs": [
        {
          "output_type": "execute_result",
          "data": {
            "text/plain": [
              "((4485, 1001), (4485,))"
            ]
          },
          "metadata": {},
          "execution_count": 3
        }
      ]
    },
    {
      "cell_type": "markdown",
      "metadata": {
        "id": "Sfh5x5kYXFcY"
      },
      "source": [
        "Let's see what is the class distribution:"
      ]
    },
    {
      "cell_type": "code",
      "metadata": {
        "id": "RqNSdTTkWiPQ",
        "colab": {
          "base_uri": "https://localhost:8080/"
        },
        "outputId": "5ad2fb7a-4876-4ef9-89bd-98371cc8e7a2"
      },
      "source": [
        "{c: nb for c, nb in enumerate(np.bincount(y))}"
      ],
      "execution_count": null,
      "outputs": [
        {
          "output_type": "execute_result",
          "data": {
            "text/plain": [
              "{0: 241,\n",
              " 1: 360,\n",
              " 2: 328,\n",
              " 3: 260,\n",
              " 4: 308,\n",
              " 5: 374,\n",
              " 6: 410,\n",
              " 7: 292,\n",
              " 8: 356,\n",
              " 9: 215,\n",
              " 10: 216,\n",
              " 11: 311,\n",
              " 12: 210,\n",
              " 13: 289,\n",
              " 14: 315}"
            ]
          },
          "metadata": {},
          "execution_count": 4
        }
      ]
    },
    {
      "cell_type": "markdown",
      "metadata": {
        "id": "MVUjgR30X7pI"
      },
      "source": [
        "Split the dataset into a train & test set:"
      ]
    },
    {
      "cell_type": "code",
      "metadata": {
        "id": "AO4XiNupWjVk",
        "colab": {
          "base_uri": "https://localhost:8080/"
        },
        "outputId": "cacc7580-04ed-415b-dcba-269ac7a08d05"
      },
      "source": [
        "xtrain, xtest, ytrain, ytest = train_test_split(X, y, test_size=0.2)\n",
        "print(len(xtrain))\n",
        "print(len(xtest))\n",
        "print(len(X))\n"
      ],
      "execution_count": null,
      "outputs": [
        {
          "output_type": "stream",
          "name": "stdout",
          "text": [
            "3588\n",
            "897\n",
            "4485\n"
          ]
        }
      ]
    },
    {
      "cell_type": "markdown",
      "metadata": {
        "id": "SsnJDa_IYdmk"
      },
      "source": [
        "Then a validation set from the train set:"
      ]
    },
    {
      "cell_type": "code",
      "metadata": {
        "id": "jjX3N-35YcFs",
        "colab": {
          "base_uri": "https://localhost:8080/"
        },
        "outputId": "16c92c03-813d-42a0-c47f-dced012fbff1"
      },
      "source": [
        "newxtrain, xvalidation, newytrain, yvalidation = train_test_split(xtrain, ytrain, test_size=0.125)\n",
        "print(len(newxtrain))\n",
        "print(len(xvalidation))\n",
        "print(len(xtrain))\n",
        "\n"
      ],
      "execution_count": null,
      "outputs": [
        {
          "output_type": "stream",
          "name": "stdout",
          "text": [
            "3139\n",
            "449\n",
            "3588\n"
          ]
        }
      ]
    },
    {
      "cell_type": "code",
      "source": [
        "subtrainx, subvalx, subtrainy, subvaly = train_test_split(newxtrain, newytrain, train_size=500, test_size=100)"
      ],
      "metadata": {
        "id": "keR9Wqyyz6vN"
      },
      "execution_count": null,
      "outputs": []
    },
    {
      "cell_type": "markdown",
      "metadata": {
        "id": "NHlcmt-SYBKQ"
      },
      "source": [
        "Let's hyperparameter gridsearch over different values of `C`:"
      ]
    },
    {
      "cell_type": "code",
      "source": [
        "C_values = [0.00001, 0.0001, 0.001, 0.01, 0.1, 1, 10, 100, 1000, 10000, 100000]\n",
        "accuracies = []\n",
        "\n",
        "\n",
        "for c in C_values:\n",
        "  print(f'Training SVM with C={c}')\n",
        "  #TODO\n",
        "  svm = SVC(C=c)\n",
        "\n",
        "  # Fit on sub-train set\n",
        "  svm.fit(subtrainx, subtrainy)\n",
        "  print(\"Finished fit\")\n",
        "\n",
        "  # Evaluate on val set\n",
        "  result = svm.score(subvalx, subvaly)\n",
        "  print(\"For \", c, \" acc: \", result)\n",
        "  accuracies.append(result)\n",
        "  #print(f'--> accuracy = {acc}')"
      ],
      "metadata": {
        "colab": {
          "base_uri": "https://localhost:8080/"
        },
        "id": "XjIVy7tOxQ_E",
        "outputId": "536b2fa8-e90a-4001-817a-0ec302933154"
      },
      "execution_count": null,
      "outputs": [
        {
          "output_type": "stream",
          "name": "stdout",
          "text": [
            "Training SVM with C=1e-05\n",
            "Finished fit\n",
            "For  1e-05  acc:  0.09\n",
            "Training SVM with C=0.0001\n",
            "Finished fit\n",
            "For  0.0001  acc:  0.09\n",
            "Training SVM with C=0.001\n",
            "Finished fit\n",
            "For  0.001  acc:  0.09\n",
            "Training SVM with C=0.01\n",
            "Finished fit\n",
            "For  0.01  acc:  0.09\n",
            "Training SVM with C=0.1\n",
            "Finished fit\n",
            "For  0.1  acc:  0.15\n",
            "Training SVM with C=1\n",
            "Finished fit\n",
            "For  1  acc:  0.2\n",
            "Training SVM with C=10\n",
            "Finished fit\n",
            "For  10  acc:  0.6\n",
            "Training SVM with C=100\n",
            "Finished fit\n",
            "For  100  acc:  0.7\n",
            "Training SVM with C=1000\n",
            "Finished fit\n",
            "For  1000  acc:  0.7\n",
            "Training SVM with C=10000\n",
            "Finished fit\n",
            "For  10000  acc:  0.7\n",
            "Training SVM with C=100000\n",
            "Finished fit\n",
            "For  100000  acc:  0.7\n"
          ]
        }
      ]
    },
    {
      "cell_type": "code",
      "metadata": {
        "id": "a8md3e7iZN5M",
        "colab": {
          "base_uri": "https://localhost:8080/",
          "height": 269
        },
        "outputId": "decf9148-4fba-4402-8b6d-edf974eb1ea4"
      },
      "source": [
        "#TODO plot the relation between `c` and the accuracy\n",
        "plt.plot(C_values, accuracies)\n",
        "plt.xscale(\"log\")\n",
        "plt.show()"
      ],
      "execution_count": null,
      "outputs": [
        {
          "output_type": "display_data",
          "data": {
            "text/plain": [
              "<Figure size 432x288 with 1 Axes>"
            ],
            "image/png": "[encoded data removed]"
          },
          "metadata": {
            "needs_background": "light"
          }
        }
      ]
    },
    {
      "cell_type": "code",
      "metadata": {
        "id": "F9wZ9l5FX_QY",
        "colab": {
          "base_uri": "https://localhost:8080/"
        },
        "outputId": "5b43688a-ffb6-4ab9-edaf-d91678d1bb93"
      },
      "source": [
        "C_values = range(1, 110, 10)\n",
        "accuracies = []\n",
        "\n",
        "for c in C_values:\n",
        "  print(f'Training SVM with C={c}')\n",
        "  #TODO\n",
        "  svm = SVC(C=c)\n",
        "\n",
        "  # Fit on sub-train set\n",
        "  svm.fit(subtrainx, subtrainy)\n",
        "  print(\"Finished fit\")\n",
        "\n",
        "  # Evaluate on val set\n",
        "  result = svm.score(subvalx, subvaly)\n",
        "  print(\"For \", c, \" acc: \", result)\n",
        "  accuracies.append(result)\n",
        "  #print(f'--> accuracy = {acc}')"
      ],
      "execution_count": null,
      "outputs": [
        {
          "output_type": "stream",
          "name": "stdout",
          "text": [
            "Training SVM with C=1\n",
            "Finished fit\n",
            "For  1  acc:  0.2\n",
            "Training SVM with C=11\n",
            "Finished fit\n",
            "For  11  acc:  0.61\n",
            "Training SVM with C=21\n",
            "Finished fit\n",
            "For  21  acc:  0.66\n",
            "Training SVM with C=31\n",
            "Finished fit\n",
            "For  31  acc:  0.67\n",
            "Training SVM with C=41\n",
            "Finished fit\n",
            "For  41  acc:  0.7\n",
            "Training SVM with C=51\n",
            "Finished fit\n",
            "For  51  acc:  0.7\n",
            "Training SVM with C=61\n",
            "Finished fit\n",
            "For  61  acc:  0.7\n",
            "Training SVM with C=71\n",
            "Finished fit\n",
            "For  71  acc:  0.7\n",
            "Training SVM with C=81\n",
            "Finished fit\n",
            "For  81  acc:  0.7\n",
            "Training SVM with C=91\n",
            "Finished fit\n",
            "For  91  acc:  0.7\n",
            "Training SVM with C=101\n",
            "Finished fit\n",
            "For  101  acc:  0.7\n"
          ]
        }
      ]
    },
    {
      "cell_type": "code",
      "metadata": {
        "colab": {
          "base_uri": "https://localhost:8080/",
          "height": 265
        },
        "outputId": "c78114bd-74e0-4b0e-e2dc-9250c27abca5",
        "id": "-k8ihH6byMRq"
      },
      "source": [
        "#TODO plot the relation between `c` and the accuracy\n",
        "plt.plot(C_values, accuracies)\n",
        "plt.show()"
      ],
      "execution_count": null,
      "outputs": [
        {
          "output_type": "display_data",
          "data": {
            "text/plain": [
              "<Figure size 432x288 with 1 Axes>"
            ],
            "image/png": "[encoded data removed]"
          },
          "metadata": {
            "needs_background": "light"
          }
        }
      ]
    },
    {
      "cell_type": "code",
      "metadata": {
        "id": "SK7WWSltbJbc",
        "colab": {
          "base_uri": "https://localhost:8080/"
        },
        "outputId": "6658d1d6-7335-4ca9-d13d-b3ecce391ee9"
      },
      "source": [
        "#TODO Fit on the whole train set, evaluate on the test set\n",
        "svm = SVC(C=1)\n",
        "svm.fit(newxtrain, newytrain)\n",
        "svm.score(xtest, ytest)"
      ],
      "execution_count": null,
      "outputs": [
        {
          "output_type": "execute_result",
          "data": {
            "text/plain": [
              "0.5027870680044593"
            ]
          },
          "metadata": {},
          "execution_count": 12
        }
      ]
    },
    {
      "cell_type": "markdown",
      "metadata": {
        "id": "iCRk9QaGbiuM"
      },
      "source": [
        "Do the same with different kernel values, and different decision functions:"
      ]
    },
    {
      "cell_type": "code",
      "metadata": {
        "id": "Pwd0BdIhbR5o",
        "colab": {
          "base_uri": "https://localhost:8080/",
          "height": 476
        },
        "outputId": "f5afc681-d7fd-4b3b-869d-118f3648932c"
      },
      "source": [
        "# Hyperparameter Kernel\n",
        "kernel_values = [\"linear\", \"poly\", \"rbf\", \"sigmoid\"]\n",
        "accuracies = []\n",
        "\n",
        "for kernel in kernel_values:\n",
        "  print(f'Training SVM with Kernel={kernel}')\n",
        "  #TODO\n",
        "  svm = SVC(kernel=kernel, C=100)\n",
        "\n",
        "  # Fit on sub-train set\n",
        "  svm.fit(subtrainx, subtrainy)\n",
        "  print(\"Finished fit\")\n",
        "\n",
        "  # Evaluate on val set\n",
        "  result = svm.score(subvalx, subvaly)\n",
        "  print(\"For \", c, \" acc: \", result)\n",
        "  accuracies.append(result)\n",
        "  #print(f'--> accuracy = {acc}')\n",
        "\n",
        "plt.plot(kernel_values, accuracies)\n",
        "plt.show()\n"
      ],
      "execution_count": null,
      "outputs": [
        {
          "output_type": "stream",
          "name": "stdout",
          "text": [
            "Training SVM with Kernel=linear\n",
            "Finished fit\n",
            "For  101  acc:  0.77\n",
            "Training SVM with Kernel=poly\n",
            "Finished fit\n",
            "For  101  acc:  0.53\n",
            "Training SVM with Kernel=rbf\n",
            "Finished fit\n",
            "For  101  acc:  0.7\n",
            "Training SVM with Kernel=sigmoid\n",
            "Finished fit\n",
            "For  101  acc:  0.1\n"
          ]
        },
        {
          "output_type": "display_data",
          "data": {
            "text/plain": [
              "<Figure size 432x288 with 1 Axes>"
            ],
            "image/png": "[encoded data removed]"
          },
          "metadata": {
            "needs_background": "light"
          }
        }
      ]
    },
    {
      "cell_type": "code",
      "source": [
        "# Hyperparameter Decision Function\n",
        "func_values = [\"ovo\", \"ovr\"]\n",
        "accuracies = []\n",
        "\n",
        "for func in func_values:\n",
        "  print(f'Training SVM with Dec Func={func}')\n",
        "  #TODO\n",
        "  svm = SVC(decision_function_shape=func, C=100)\n",
        "\n",
        "  # Fit on sub-train set\n",
        "  svm.fit(subtrainx, subtrainy)\n",
        "  print(\"Finished fit\")\n",
        "\n",
        "  # Evaluate on val set\n",
        "  result = svm.score(subvalx, subvaly)\n",
        "  print(\"For \", c, \" acc: \", result)\n",
        "  accuracies.append(result)\n",
        "  #print(f'--> accuracy = {acc}')\n",
        "\n",
        "plt.plot(func_values, accuracies)\n",
        "plt.show()"
      ],
      "metadata": {
        "colab": {
          "base_uri": "https://localhost:8080/",
          "height": 369
        },
        "id": "xqHqB-KnpG0F",
        "outputId": "dd6e0815-509a-455c-f1e7-64a9b2f1eacf"
      },
      "execution_count": null,
      "outputs": [
        {
          "output_type": "stream",
          "name": "stdout",
          "text": [
            "Training SVM with Dec Func=ovo\n",
            "Finished fit\n",
            "For  101  acc:  0.7\n",
            "Training SVM with Dec Func=ovr\n",
            "Finished fit\n",
            "For  101  acc:  0.7\n"
          ]
        },
        {
          "output_type": "display_data",
          "data": {
            "text/plain": [
              "<Figure size 432x288 with 1 Axes>"
            ],
            "image/png": "[encoded data removed]"
          },
          "metadata": {
            "needs_background": "light"
          }
        }
      ]
    },
    {
      "cell_type": "code",
      "source": [
        "#Hyperparameter Degree (for polynomial kernel)\n",
        "degrees = range(1, 11)\n",
        "accuracies = []\n",
        "\n",
        "for degree in degrees:\n",
        "  print(f'Training SVM with degree={degree}')\n",
        "  #TODO\n",
        "  svm = SVC(kernel=\"poly\", degree=degree, C=100)\n",
        "\n",
        "  # Fit on sub-train set\n",
        "  svm.fit(subtrainx, subtrainy)\n",
        "  print(\"Finished fit\")\n",
        "\n",
        "  # Evaluate on val set\n",
        "  result = svm.score(subvalx, subvaly)\n",
        "  print(\"For \", c, \" acc: \", result)\n",
        "  accuracies.append(result)\n",
        "  #print(f'--> accuracy = {acc}')\n",
        "plt.plot(degrees, accuracies)\n",
        "plt.show()"
      ],
      "metadata": {
        "colab": {
          "base_uri": "https://localhost:8080/",
          "height": 786
        },
        "id": "BLKpUfj4seAc",
        "outputId": "5379df13-f3cb-4146-b595-1fe5f6402596"
      },
      "execution_count": null,
      "outputs": [
        {
          "output_type": "stream",
          "name": "stdout",
          "text": [
            "Training SVM with degree=1\n",
            "Finished fit\n",
            "For  101  acc:  0.21\n",
            "Training SVM with degree=2\n",
            "Finished fit\n",
            "For  101  acc:  0.21\n",
            "Training SVM with degree=3\n",
            "Finished fit\n",
            "For  101  acc:  0.25\n",
            "Training SVM with degree=4\n",
            "Finished fit\n",
            "For  101  acc:  0.25\n",
            "Training SVM with degree=5\n",
            "Finished fit\n",
            "For  101  acc:  0.23\n",
            "Training SVM with degree=6\n",
            "Finished fit\n",
            "For  101  acc:  0.26\n",
            "Training SVM with degree=7\n",
            "Finished fit\n",
            "For  101  acc:  0.28\n",
            "Training SVM with degree=8\n",
            "Finished fit\n",
            "For  101  acc:  0.28\n",
            "Training SVM with degree=9\n",
            "Finished fit\n",
            "For  101  acc:  0.27\n",
            "Training SVM with degree=10\n",
            "Finished fit\n",
            "For  101  acc:  0.28\n"
          ]
        },
        {
          "output_type": "display_data",
          "data": {
            "text/plain": [
              "<Figure size 432x288 with 1 Axes>"
            ],
            "image/png": "[encoded data removed]"
          },
          "metadata": {
            "needs_background": "light"
          }
        }
      ]
    }
  ]
}